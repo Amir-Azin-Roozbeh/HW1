{
  "nbformat": 4,
  "nbformat_minor": 0,
  "metadata": {
    "colab": {
      "name": "Robotic - HW1 - Q4.ipynb",
      "provenance": []
    },
    "kernelspec": {
      "name": "python3",
      "display_name": "Python 3"
    },
    "language_info": {
      "name": "python"
    }
  },
  "cells": [
    {
      "cell_type": "markdown",
      "metadata": {
        "id": "dj5sBudSMVl1"
      },
      "source": [
        "## Imports"
      ]
    },
    {
      "cell_type": "code",
      "metadata": {
        "id": "899FDOJiMWmx"
      },
      "source": [
        "import numpy as np\n",
        "from math import cos, sin, pi, sqrt\n",
        "import matplotlib.pyplot as plt"
      ],
      "execution_count": 1,
      "outputs": []
    },
    {
      "cell_type": "markdown",
      "metadata": {
        "id": "vLV9lgrqI6j2"
      },
      "source": [
        "## config"
      ]
    },
    {
      "cell_type": "code",
      "metadata": {
        "id": "yDDnvPTII5fg"
      },
      "source": [
        "threshold = 0.1"
      ],
      "execution_count": 2,
      "outputs": []
    },
    {
      "cell_type": "code",
      "metadata": {
        "id": "UYEocSwAJit0"
      },
      "source": [
        "def calculate_v_w (x_current, y_current, theta_current, x_destination, y_destination): \n",
        "  delta_x = x_destination - x_current\n",
        "  delta_y = y_destination - y_current\n",
        "  ro = sqrt((delta_x)**2 + (delta_y)**2)\n",
        "  alpha = -theta_current + np.arctan2(delta_y, delta_x)\n",
        "  betha = -(alpha + theta_current)\n",
        "  k_ro = 3\n",
        "  k_betha = -1.5\n",
        "  k_alpha = 8\n",
        "  v = k_ro * ro \n",
        "  w = k_alpha * alpha + k_betha * betha\n",
        "  return v, w"
      ],
      "execution_count": 3,
      "outputs": []
    },
    {
      "cell_type": "code",
      "metadata": {
        "id": "FVwseqOkNmJ9"
      },
      "source": [
        "def calculate_wheel_velocity (v, w, r_wheel, l): \n",
        "  phi_dot_wheel_1 = (v + (l*w)/2)/ r_wheel \n",
        "  phi_dot_wheel_2 = (v - (l*w))/2/ r_wheel\n",
        "  return phi_dot_wheel_1, phi_dot_wheel_2"
      ],
      "execution_count": 4,
      "outputs": []
    },
    {
      "cell_type": "code",
      "metadata": {
        "id": "RjpT1DWrPr38"
      },
      "source": [
        "def transfer_to_initial (phi_dot_wheel_1, phi_dot_wheel_2, theta, l, r_wheel): \n",
        "  angle = -1 * theta\n",
        "  v = r_wheel * (phi_dot_wheel_1 - phi_dot_wheel_2) / l \n",
        "  w = r_wheel * (phi_dot_wheel_1 + phi_dot_wheel_2) / 2\n",
        "  transfer_matrix = np.array([[cos(angle),      sin(angle), 0], \n",
        "                              [-1 * sin(angle), cos(angle), 0], \n",
        "                              [0,               0,          1]])\n",
        "  z_dot_initial = np.dot(transfer_matrix, np.array([[v], [0], [w]]))\n",
        "\n",
        "  v_x_initial = z_dot_initial[0][0]\n",
        "  v_y_initial = z_dot_initial[1][0]\n",
        "  return v_x_initial, v_y_initial"
      ],
      "execution_count": 5,
      "outputs": []
    },
    {
      "cell_type": "code",
      "metadata": {
        "id": "fJ5E-6wT79DZ"
      },
      "source": [
        "def plot_path(x_initial, \n",
        "              y_initial,\n",
        "              theta_initial, \n",
        "              x_destination, \n",
        "              y_destination,  \n",
        "              r_wheel, \n",
        "              l, \n",
        "              delta_t = 0.001, \n",
        "              label='1'):\n",
        "  x_current = x_initial\n",
        "  y_current = y_initial\n",
        "  theta_current = theta_initial\n",
        "  x_path = [x_initial]\n",
        "  y_path = [y_initial]\n",
        "  while (abs(x_current - x_destination) >= threshold) or (abs(y_current - y_destination) >= threshold): \n",
        "    v, w = calculate_v_w(x_current, y_current, theta_current, x_destination, y_destination)\n",
        "    phi_dot_wheel_1, phi_dot_wheel_2 = calculate_wheel_velocity (v, w, r_wheel, l)\n",
        "    v_x_initial, v_y_initial = transfer_to_initial(phi_dot_wheel_1, phi_dot_wheel_2, theta_current, l/2, r_wheel)\n",
        "    x_current += delta_t * v_x_initial\n",
        "    x_path.append(x_current)\n",
        "    y_current += delta_t * v_y_initial\n",
        "    y_path.append(y_current)\n",
        "    theta_current += delta_t * w \n",
        "  plt.plot(x_path, y_path, label)"
      ],
      "execution_count": 26,
      "outputs": []
    },
    {
      "cell_type": "code",
      "metadata": {
        "colab": {
          "base_uri": "https://localhost:8080/",
          "height": 265
        },
        "id": "uMvE6rKyR10N",
        "outputId": "8b95e13b-bfaf-4615-bfec-0bd8830c816a"
      },
      "source": [
        "plot_path(x_initial=0, y_initial=0, theta_initial=-pi/2, x_destination=-40, y_destination=-30,  r_wheel=1, l=5)\n",
        "plot_path(x_initial=0, y_initial=0, theta_initial=-pi/2, x_destination=-30, y_destination=-40,  r_wheel=1, l=5)\n",
        "plot_path(x_initial=0, y_initial=0, theta_initial=-pi/2, x_destination=0, y_destination=-50,  r_wheel=1, l=5)\n",
        "plot_path(x_initial=0, y_initial=0, theta_initial=-pi/2, x_destination=30, y_destination=-40,  r_wheel=1, l=5)\n",
        "plot_path(x_initial=0, y_initial=0, theta_initial=-pi/2, x_destination=40, y_destination=-30,  r_wheel=1, l=5)\n",
        "plot_path(x_initial=0, y_initial=0, theta_initial=-pi/2, x_destination=50, y_destination=0,  r_wheel=1, l=5)\n",
        "plot_path(x_initial=0, y_initial=0, theta_initial=-pi/2, x_destination=40, y_destination=30,  r_wheel=1, l=5)\n",
        "plot_path(x_initial=0, y_initial=0, theta_initial=-pi/2, x_destination=30, y_destination=40,  r_wheel=1, l=5)\n",
        "plot_path(x_initial=0, y_initial=0, theta_initial=-pi/2, x_destination=0, y_destination=50,  r_wheel=1, l=5)\n",
        "plot_path(x_initial=0, y_initial=0, theta_initial=-pi/2, x_destination=-30, y_destination=40,  r_wheel=1, l=5)\n",
        "plot_path(x_initial=0, y_initial=0, theta_initial=-pi/2, x_destination=-40, y_destination=30,  r_wheel=1, l=5)\n",
        "plt.show()"
      ],
      "execution_count": 27,
      "outputs": [
        {
          "output_type": "display_data",
          "data": {
            "image/png": "[encoded data removed]",
            "text/plain": [
              "<Figure size 432x288 with 1 Axes>"
            ]
          },
          "metadata": {
            "needs_background": "light"
          }
        }
      ]
    },
    {
      "cell_type": "code",
      "metadata": {
        "colab": {
          "base_uri": "https://localhost:8080/",
          "height": 265
        },
        "id": "TpOhhU0xSTIi",
        "outputId": "0ccce039-1f46-41fa-f86c-57263838c47d"
      },
      "source": [
        "plot_path(x_initial=-40, y_initial=-30, theta_initial=-pi/2, x_destination=0, y_destination=0,  r_wheel=1, l=5)\n",
        "plot_path(x_initial=-30, y_initial=-40, theta_initial=-pi/2, x_destination=0, y_destination=0,  r_wheel=1, l=5)\n",
        "plot_path(x_initial=0, y_initial=-50, theta_initial=-pi/2, x_destination=0, y_destination=0,  r_wheel=1, l=5)\n",
        "plot_path(x_initial=30, y_initial=-40, theta_initial=-pi/2, x_destination=0, y_destination=0,  r_wheel=1, l=5)\n",
        "plot_path(x_initial=40, y_initial=-30, theta_initial=-pi/2, x_destination=0, y_destination=0,  r_wheel=1, l=5)\n",
        "plot_path(x_initial=40, y_initial=30, theta_initial=-pi/2, x_destination=0, y_destination=0,  r_wheel=1, l=5)\n",
        "plot_path(x_initial=30, y_initial=40, theta_initial=-pi/2, x_destination=0, y_destination=0,  r_wheel=1, l=5)\n",
        "plot_path(x_initial=0, y_initial=50, theta_initial=-pi/2, x_destination=0, y_destination=0,  r_wheel=1, l=5)\n",
        "plot_path(x_initial=-30, y_initial=40, theta_initial=-pi/2, x_destination=0, y_destination=0,  r_wheel=1, l=5)\n",
        "plot_path(x_initial=-40, y_initial=30, theta_initial=-pi/2, x_destination=0, y_destination=0,  r_wheel=1, l=5)\n",
        "plot_path(x_initial=-50, y_initial=0, theta_initial=-pi/2, x_destination=0, y_destination=0,  r_wheel=1, l=5)\n",
        "plt.show()"
      ],
      "execution_count": 30,
      "outputs": [
        {
          "output_type": "display_data",
          "data": {
            "image/png": "[encoded data removed]",
            "text/plain": [
              "<Figure size 432x288 with 1 Axes>"
            ]
          },
          "metadata": {
            "needs_background": "light"
          }
        }
      ]
    },
    {
      "cell_type": "code",
      "metadata": {
        "id": "OaGNivVahWnr"
      },
      "source": [
        ""
      ],
      "execution_count": null,
      "outputs": []
    }
  ]
}